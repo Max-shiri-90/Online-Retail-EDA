{
 "cells": [
  {
   "cell_type": "markdown",
   "metadata": {},
   "source": [
    "# Online Retail EDA"
   ]
  },
  {
   "cell_type": "code",
   "execution_count": 73,
   "metadata": {},
   "outputs": [],
   "source": [
    "import numpy as np\n",
    "import pandas as pd\n",
    "import matplotlib.pyplot as plt\n",
    "np.random.seed(1402)"
   ]
  },
  {
   "cell_type": "code",
   "execution_count": 74,
   "metadata": {},
   "outputs": [
    {
     "data": {
      "text/html": [
       "<div>\n",
       "<style scoped>\n",
       "    .dataframe tbody tr th:only-of-type {\n",
       "        vertical-align: middle;\n",
       "    }\n",
       "\n",
       "    .dataframe tbody tr th {\n",
       "        vertical-align: top;\n",
       "    }\n",
       "\n",
       "    .dataframe thead th {\n",
       "        text-align: right;\n",
       "    }\n",
       "</style>\n",
       "<table border=\"1\" class=\"dataframe\">\n",
       "  <thead>\n",
       "    <tr style=\"text-align: right;\">\n",
       "      <th></th>\n",
       "      <th>InvoiceNumber</th>\n",
       "      <th>ProductCode</th>\n",
       "      <th>ProductName</th>\n",
       "      <th>Quantity</th>\n",
       "      <th>InvoiceDate</th>\n",
       "      <th>UnitPrice</th>\n",
       "      <th>CustomerId</th>\n",
       "      <th>Country</th>\n",
       "    </tr>\n",
       "  </thead>\n",
       "  <tbody>\n",
       "    <tr>\n",
       "      <th>0</th>\n",
       "      <td>489434</td>\n",
       "      <td>85048</td>\n",
       "      <td>15CM CHRISTMAS GLASS BALL 20 LIGHTS</td>\n",
       "      <td>12</td>\n",
       "      <td>2009-12-01 07:45:00</td>\n",
       "      <td>6.95</td>\n",
       "      <td>13085.0</td>\n",
       "      <td>United Kingdom</td>\n",
       "    </tr>\n",
       "    <tr>\n",
       "      <th>1</th>\n",
       "      <td>489434</td>\n",
       "      <td>79323P</td>\n",
       "      <td>PINK CHERRY LIGHTS</td>\n",
       "      <td>12</td>\n",
       "      <td>2009-12-01 07:45:00</td>\n",
       "      <td>6.75</td>\n",
       "      <td>13085.0</td>\n",
       "      <td>United Kingdom</td>\n",
       "    </tr>\n",
       "    <tr>\n",
       "      <th>2</th>\n",
       "      <td>489434</td>\n",
       "      <td>79323W</td>\n",
       "      <td>WHITE CHERRY LIGHTS</td>\n",
       "      <td>12</td>\n",
       "      <td>2009-12-01 07:45:00</td>\n",
       "      <td>6.75</td>\n",
       "      <td>13085.0</td>\n",
       "      <td>United Kingdom</td>\n",
       "    </tr>\n",
       "    <tr>\n",
       "      <th>3</th>\n",
       "      <td>489434</td>\n",
       "      <td>22041</td>\n",
       "      <td>RECORD FRAME 7\" SINGLE SIZE</td>\n",
       "      <td>48</td>\n",
       "      <td>2009-12-01 07:45:00</td>\n",
       "      <td>2.10</td>\n",
       "      <td>13085.0</td>\n",
       "      <td>United Kingdom</td>\n",
       "    </tr>\n",
       "    <tr>\n",
       "      <th>4</th>\n",
       "      <td>489434</td>\n",
       "      <td>21232</td>\n",
       "      <td>STRAWBERRY CERAMIC TRINKET BOX</td>\n",
       "      <td>24</td>\n",
       "      <td>2009-12-01 07:45:00</td>\n",
       "      <td>1.25</td>\n",
       "      <td>13085.0</td>\n",
       "      <td>United Kingdom</td>\n",
       "    </tr>\n",
       "  </tbody>\n",
       "</table>\n",
       "</div>"
      ],
      "text/plain": [
       "  InvoiceNumber ProductCode                          ProductName  Quantity  \\\n",
       "0        489434       85048  15CM CHRISTMAS GLASS BALL 20 LIGHTS        12   \n",
       "1        489434      79323P                   PINK CHERRY LIGHTS        12   \n",
       "2        489434      79323W                  WHITE CHERRY LIGHTS        12   \n",
       "3        489434       22041         RECORD FRAME 7\" SINGLE SIZE         48   \n",
       "4        489434       21232       STRAWBERRY CERAMIC TRINKET BOX        24   \n",
       "\n",
       "          InvoiceDate  UnitPrice  CustomerId         Country  \n",
       "0 2009-12-01 07:45:00       6.95     13085.0  United Kingdom  \n",
       "1 2009-12-01 07:45:00       6.75     13085.0  United Kingdom  \n",
       "2 2009-12-01 07:45:00       6.75     13085.0  United Kingdom  \n",
       "3 2009-12-01 07:45:00       2.10     13085.0  United Kingdom  \n",
       "4 2009-12-01 07:45:00       1.25     13085.0  United Kingdom  "
      ]
     },
     "execution_count": 74,
     "metadata": {},
     "output_type": "execute_result"
    }
   ],
   "source": [
    "df=pd.read_excel('sales.xlsx')\n",
    "df.head()"
   ]
  },
  {
   "cell_type": "code",
   "execution_count": 75,
   "metadata": {},
   "outputs": [
    {
     "name": "stdout",
     "output_type": "stream",
     "text": [
      "<class 'pandas.core.frame.DataFrame'>\n",
      "RangeIndex: 525461 entries, 0 to 525460\n",
      "Data columns (total 8 columns):\n",
      " #   Column         Non-Null Count   Dtype         \n",
      "---  ------         --------------   -----         \n",
      " 0   InvoiceNumber  525461 non-null  object        \n",
      " 1   ProductCode    525461 non-null  object        \n",
      " 2   ProductName    522533 non-null  object        \n",
      " 3   Quantity       525461 non-null  int64         \n",
      " 4   InvoiceDate    525461 non-null  datetime64[ns]\n",
      " 5   UnitPrice      525461 non-null  float64       \n",
      " 6   CustomerId     417534 non-null  float64       \n",
      " 7   Country        525461 non-null  object        \n",
      "dtypes: datetime64[ns](1), float64(2), int64(1), object(4)\n",
      "memory usage: 32.1+ MB\n"
     ]
    }
   ],
   "source": [
    "df.info()"
   ]
  },
  {
   "cell_type": "code",
   "execution_count": 76,
   "metadata": {},
   "outputs": [
    {
     "name": "stdout",
     "output_type": "stream",
     "text": [
      "DataFrame dimensions: (525461, 8)\n"
     ]
    }
   ],
   "source": [
    "print('DataFrame dimensions:', df.shape)"
   ]
  },
  {
   "cell_type": "markdown",
   "metadata": {},
   "source": [
    "<h2 align=right style=\"line-height:200%;font-family:vazir;color:#0099cc\">\n",
    "<font face=\"vazir\" color=\"#0099cc\">پیش پردازش</font>\n",
    "</h2>\n",
    "\n",
    "<p>\n",
    "    <ul dir=rtl face=\"vazir\">\n",
    "        <li>حذف سطر تکراری</li>\n",
    "        <li>حذف قیمت واحدهای (UnitPrice) منفی</li>\n",
    "        <li> حذف سطرهای بدون آی دی مشتری (CustomerId)</li>\n",
    "        <li>گزارش ۵ مشتری که بیشترین کنسلی را داشتند</li>\n",
    "        <li>حذف سفارشهای کنسل شده</li>\n",
    "        <li>ذخیره تغییرات با نام remaining.csv</li>\n",
    "    </ul>\n",
    "</p>"
   ]
  },
  {
   "cell_type": "markdown",
   "metadata": {},
   "source": [
    "Dropping Duplicates "
   ]
  },
  {
   "cell_type": "code",
   "execution_count": 77,
   "metadata": {},
   "outputs": [
    {
     "name": "stdout",
     "output_type": "stream",
     "text": [
      "DataFrame dimensions after Dropping Duplicates: (518596, 8)\n"
     ]
    }
   ],
   "source": [
    "df1 = df.copy()\n",
    "df1 = df1.drop_duplicates()\n",
    "print('DataFrame dimensions after Dropping Duplicates:', df1.shape)"
   ]
  },
  {
   "cell_type": "markdown",
   "metadata": {},
   "source": [
    "Dropping Negative UnitPrices"
   ]
  },
  {
   "cell_type": "code",
   "execution_count": 78,
   "metadata": {},
   "outputs": [
    {
     "name": "stdout",
     "output_type": "stream",
     "text": [
      "DataFrame dimensions after Dropping Negative UnitPrices: (518593, 8)\n"
     ]
    }
   ],
   "source": [
    "df2 = df1[df1['UnitPrice'] >= 0]\n",
    "print('DataFrame dimensions after Dropping Negative UnitPrices:', df2.shape)"
   ]
  },
  {
   "cell_type": "markdown",
   "metadata": {},
   "source": [
    "Dropping rows without CustomerId"
   ]
  },
  {
   "cell_type": "code",
   "execution_count": 79,
   "metadata": {},
   "outputs": [
    {
     "name": "stdout",
     "output_type": "stream",
     "text": [
      "DataFrame dimensions after Dropping rows without CustomerId: (410763, 8)\n"
     ]
    }
   ],
   "source": [
    "df3 = df2[df2['CustomerId'].notnull()]\n",
    "print('DataFrame dimensions after Dropping rows without CustomerId:', df3.shape)"
   ]
  },
  {
   "cell_type": "markdown",
   "metadata": {},
   "source": [
    "5 Customers with the most Cancels"
   ]
  },
  {
   "cell_type": "code",
   "execution_count": 80,
   "metadata": {},
   "outputs": [
    {
     "data": {
      "text/plain": [
       "CustomerId\n",
       "14911.0    5707\n",
       "17841.0    5015\n",
       "14606.0    3863\n",
       "14156.0    2708\n",
       "12748.0    2562\n",
       "Name: count, dtype: int64"
      ]
     },
     "execution_count": 80,
     "metadata": {},
     "output_type": "execute_result"
    }
   ],
   "source": [
    "df3['InvoiceNumber'].str.startswith('C')\n",
    "df4 = df3['CustomerId'].value_counts().nlargest(5)\n",
    "df4"
   ]
  },
  {
   "cell_type": "markdown",
   "metadata": {},
   "source": [
    "Dropping Cancelled Invoiced"
   ]
  },
  {
   "cell_type": "code",
   "execution_count": 81,
   "metadata": {},
   "outputs": [
    {
     "name": "stdout",
     "output_type": "stream",
     "text": [
      "DataFrame dimensions after Dropping cancelled Invoices: (400947, 8)\n"
     ]
    },
    {
     "data": {
      "text/html": [
       "<div>\n",
       "<style scoped>\n",
       "    .dataframe tbody tr th:only-of-type {\n",
       "        vertical-align: middle;\n",
       "    }\n",
       "\n",
       "    .dataframe tbody tr th {\n",
       "        vertical-align: top;\n",
       "    }\n",
       "\n",
       "    .dataframe thead th {\n",
       "        text-align: right;\n",
       "    }\n",
       "</style>\n",
       "<table border=\"1\" class=\"dataframe\">\n",
       "  <thead>\n",
       "    <tr style=\"text-align: right;\">\n",
       "      <th></th>\n",
       "      <th>InvoiceNumber</th>\n",
       "      <th>ProductCode</th>\n",
       "      <th>ProductName</th>\n",
       "      <th>Quantity</th>\n",
       "      <th>InvoiceDate</th>\n",
       "      <th>UnitPrice</th>\n",
       "      <th>CustomerId</th>\n",
       "      <th>Country</th>\n",
       "    </tr>\n",
       "  </thead>\n",
       "  <tbody>\n",
       "    <tr>\n",
       "      <th>0</th>\n",
       "      <td>489434</td>\n",
       "      <td>85048</td>\n",
       "      <td>15CM CHRISTMAS GLASS BALL 20 LIGHTS</td>\n",
       "      <td>12</td>\n",
       "      <td>2009-12-01 07:45:00</td>\n",
       "      <td>6.95</td>\n",
       "      <td>13085.0</td>\n",
       "      <td>United Kingdom</td>\n",
       "    </tr>\n",
       "    <tr>\n",
       "      <th>1</th>\n",
       "      <td>489434</td>\n",
       "      <td>79323P</td>\n",
       "      <td>PINK CHERRY LIGHTS</td>\n",
       "      <td>12</td>\n",
       "      <td>2009-12-01 07:45:00</td>\n",
       "      <td>6.75</td>\n",
       "      <td>13085.0</td>\n",
       "      <td>United Kingdom</td>\n",
       "    </tr>\n",
       "    <tr>\n",
       "      <th>2</th>\n",
       "      <td>489434</td>\n",
       "      <td>79323W</td>\n",
       "      <td>WHITE CHERRY LIGHTS</td>\n",
       "      <td>12</td>\n",
       "      <td>2009-12-01 07:45:00</td>\n",
       "      <td>6.75</td>\n",
       "      <td>13085.0</td>\n",
       "      <td>United Kingdom</td>\n",
       "    </tr>\n",
       "    <tr>\n",
       "      <th>3</th>\n",
       "      <td>489434</td>\n",
       "      <td>22041</td>\n",
       "      <td>RECORD FRAME 7\" SINGLE SIZE</td>\n",
       "      <td>48</td>\n",
       "      <td>2009-12-01 07:45:00</td>\n",
       "      <td>2.10</td>\n",
       "      <td>13085.0</td>\n",
       "      <td>United Kingdom</td>\n",
       "    </tr>\n",
       "    <tr>\n",
       "      <th>4</th>\n",
       "      <td>489434</td>\n",
       "      <td>21232</td>\n",
       "      <td>STRAWBERRY CERAMIC TRINKET BOX</td>\n",
       "      <td>24</td>\n",
       "      <td>2009-12-01 07:45:00</td>\n",
       "      <td>1.25</td>\n",
       "      <td>13085.0</td>\n",
       "      <td>United Kingdom</td>\n",
       "    </tr>\n",
       "  </tbody>\n",
       "</table>\n",
       "</div>"
      ],
      "text/plain": [
       "  InvoiceNumber ProductCode                          ProductName  Quantity  \\\n",
       "0        489434       85048  15CM CHRISTMAS GLASS BALL 20 LIGHTS        12   \n",
       "1        489434      79323P                   PINK CHERRY LIGHTS        12   \n",
       "2        489434      79323W                  WHITE CHERRY LIGHTS        12   \n",
       "3        489434       22041         RECORD FRAME 7\" SINGLE SIZE         48   \n",
       "4        489434       21232       STRAWBERRY CERAMIC TRINKET BOX        24   \n",
       "\n",
       "          InvoiceDate  UnitPrice  CustomerId         Country  \n",
       "0 2009-12-01 07:45:00       6.95     13085.0  United Kingdom  \n",
       "1 2009-12-01 07:45:00       6.75     13085.0  United Kingdom  \n",
       "2 2009-12-01 07:45:00       6.75     13085.0  United Kingdom  \n",
       "3 2009-12-01 07:45:00       2.10     13085.0  United Kingdom  \n",
       "4 2009-12-01 07:45:00       1.25     13085.0  United Kingdom  "
      ]
     },
     "execution_count": 81,
     "metadata": {},
     "output_type": "execute_result"
    }
   ],
   "source": [
    "df5 = df3[~df3.InvoiceNumber.str.contains(\"C\", na=False)]\n",
    "print('DataFrame dimensions after Dropping cancelled Invoices:', df5.shape)\n",
    "df5.head()"
   ]
  },
  {
   "cell_type": "markdown",
   "metadata": {},
   "source": [
    "Save as remaining.csv"
   ]
  },
  {
   "cell_type": "code",
   "execution_count": 82,
   "metadata": {},
   "outputs": [],
   "source": [
    "df5.to_csv('remaining.csv', index=False)"
   ]
  },
  {
   "cell_type": "markdown",
   "metadata": {},
   "source": [
    "<h2 align=right style=\"line-height:200%;font-family:vazir;color:#0099cc\">\n",
    "<font face=\"vazir\" color=\"#0099cc\">تحلیل اکتشافی</font>\n",
    "</h2>\n",
    "\n",
    "<p>\n",
    "    <ul dir=rtl face=\"vazir\">\n",
    "        <li>محاسبه تعدادسفارشات باقیمانده</li>\n",
    "        <li>بازه زمانی سفارش: حداقل تا حداکثر تاریخ</li>\n",
    "        <li>رسم نمودار میله ای برای سفارشات روز هفته</li>\n",
    "        <li>رسم نمودار میله ای از مجموع فروش هر ماه از هر سال</li>\n",
    "        <li>نمودارها دارای عنوان برای هر محور و دارای شکل مناسب</li>\n",
    "    </ul>\n",
    "</p>"
   ]
  },
  {
   "cell_type": "markdown",
   "metadata": {},
   "source": [
    "Remaining Invoice"
   ]
  },
  {
   "cell_type": "code",
   "execution_count": 83,
   "metadata": {},
   "outputs": [
    {
     "name": "stdout",
     "output_type": "stream",
     "text": [
      "Remiangin Invoices:  400947\n"
     ]
    }
   ],
   "source": [
    "df7 = pd.read_csv('remaining.csv')\n",
    "remiangin_invoices = len(df7.index)\n",
    "print(\"Remiangin Invoices: \", remiangin_invoices)"
   ]
  },
  {
   "cell_type": "markdown",
   "metadata": {},
   "source": [
    "InvoiceDate Interval: First and Last Invoice"
   ]
  },
  {
   "cell_type": "code",
   "execution_count": 84,
   "metadata": {},
   "outputs": [
    {
     "name": "stdout",
     "output_type": "stream",
     "text": [
      "The First Date:  2009-12-01 07:45:00  - The Last Date:  2010-12-09 20:01:00\n"
     ]
    }
   ],
   "source": [
    "df8 = pd.to_datetime(df7['InvoiceDate'])\n",
    "print('The First Date: ', df8.min(), ' - The Last Date: ', df8.max())"
   ]
  },
  {
   "cell_type": "markdown",
   "metadata": {},
   "source": [
    "Quantity per Day of the Week Barplot"
   ]
  },
  {
   "cell_type": "code",
   "execution_count": 85,
   "metadata": {},
   "outputs": [
    {
     "data": {
      "text/plain": [
       "<BarContainer object of 7 artists>"
      ]
     },
     "execution_count": 85,
     "metadata": {},
     "output_type": "execute_result"
    },
    {
     "data": {
      "image/png": "[encoded data removed]",
      "text/plain": [
       "<Figure size 640x480 with 1 Axes>"
      ]
     },
     "metadata": {},
     "output_type": "display_data"
    }
   ],
   "source": [
    "df7['weekday'] = df8.dt.day_name()\n",
    "df9 = df7[['weekday', 'Quantity']].groupby('weekday').sum()\n",
    "\n",
    "data1 = df7.weekday.unique()\n",
    "data2 = df9.Quantity\n",
    "\n",
    "plt.xlabel(\"Days of Week\")\n",
    "plt.ylabel(\"Sum of the Quantities\")\n",
    "\n",
    "plt.bar(data1, data2, width = 0.5)"
   ]
  },
  {
   "cell_type": "code",
   "execution_count": 86,
   "metadata": {},
   "outputs": [
    {
     "data": {
      "text/plain": [
       "weekday\n",
       "Friday        750290\n",
       "Monday       1086812\n",
       "Saturday        5119\n",
       "Sunday        574040\n",
       "Thursday     1125856\n",
       "Tuesday      1000867\n",
       "Wednesday     977464\n",
       "Name: Quantity, dtype: int64"
      ]
     },
     "execution_count": 86,
     "metadata": {},
     "output_type": "execute_result"
    }
   ],
   "source": [
    "df9.Quantity"
   ]
  },
  {
   "cell_type": "markdown",
   "metadata": {},
   "source": [
    "Monthly Sell"
   ]
  },
  {
   "cell_type": "code",
   "execution_count": 87,
   "metadata": {},
   "outputs": [
    {
     "data": {
      "text/plain": [
       "<BarContainer object of 12 artists>"
      ]
     },
     "execution_count": 87,
     "metadata": {},
     "output_type": "execute_result"
    },
    {
     "data": {
      "image/png": "[encoded data removed]",
      "text/plain": [
       "<Figure size 640x480 with 1 Axes>"
      ]
     },
     "metadata": {},
     "output_type": "display_data"
    }
   ],
   "source": [
    "df7['month'] = df8.dt.month_name()\n",
    "df7['TotalPrice'] = df7.UnitPrice*df7.Quantity\n",
    "df10 = df7[['month', 'TotalPrice']].groupby('month').sum()\n",
    "\n",
    "data1 = df7.month.unique()\n",
    "data2 = df10.TotalPrice\n",
    "\n",
    "plt.xlabel(\"Month\")\n",
    "plt.ylabel(\"Sell\")\n",
    "\n",
    "plt.bar(data1, data2, width = 0.5)"
   ]
  }
 ],
 "metadata": {
  "kernelspec": {
   "display_name": "Python 3",
   "language": "python",
   "name": "python3"
  },
  "language_info": {
   "codemirror_mode": {
    "name": "ipython",
    "version": 3
   },
   "file_extension": ".py",
   "mimetype": "text/x-python",
   "name": "python",
   "nbconvert_exporter": "python",
   "pygments_lexer": "ipython3",
   "version": "3.11.9"
  }
 },
 "nbformat": 4,
 "nbformat_minor": 2
}
